{
 "cells": [
  {
   "cell_type": "markdown",
   "metadata": {},
   "source": [
    "# Pandas"
   ]
  },
  {
   "cell_type": "markdown",
   "metadata": {},
   "source": [
    "## Assignments"
   ]
  },
  {
   "cell_type": "markdown",
   "metadata": {},
   "source": [
    "###### Problem Statemetn 1:"
   ]
  },
  {
   "cell_type": "markdown",
   "metadata": {},
   "source": [
    "1. How-to-count-distance-to-the-previous-zeros. \n",
    "\n",
    "For each value, count the difference of the distance from the previous zero (or the start of the Series, whichever is closer)and if there are no previous zeros, print the position. \n",
    "\n",
    "Consider a DataFrame 'df' where there is an integer column {'X'[7,2,0,3,4,2,5,0,3,4]}\n",
    "\n",
    "The values should therefore be [1,2,0, 1,2,3,4,0,1,2]. Make this a new column 'y. \n",
    "\n",
    "import pandas as pd. \n",
    "\n",
    "df = pd.DataFrame({'X':[7,2,0,3,4,2,5,0,3,4]})"
   ]
  },
  {
   "cell_type": "code",
   "execution_count": 2,
   "metadata": {},
   "outputs": [
    {
     "name": "stdout",
     "output_type": "stream",
     "text": [
      "   X  Y\n",
      "0  7  1\n",
      "1  2  2\n",
      "2  0  0\n",
      "3  3  1\n",
      "4  4  2\n",
      "5  2  3\n",
      "6  5  4\n",
      "7  0  0\n",
      "8  3  1\n",
      "9  4  2\n"
     ]
    }
   ],
   "source": [
    "import pandas as pd\n",
    "list_org = [7,2,0,3,4,2,5,0,3,4]\n",
    "df = pd.DataFrame({'X':list_org})\n",
    "list_new = []\n",
    "count_diff_back = 0\n",
    "for item in list_org:\n",
    "    if(item != 0):\n",
    "        count_diff_back += 1\n",
    "    else:\n",
    "        count_diff_back = 0\n",
    "    list_new.append(count_diff_back)\n",
    "df['Y'] = list_new\n",
    "print(df)"
   ]
  },
  {
   "cell_type": "markdown",
   "metadata": {},
   "source": [
    "2. Create a DatetimeIndex that contains each business day of 2015 and use it to index a Series of random numbers. "
   ]
  },
  {
   "cell_type": "code",
   "execution_count": 6,
   "metadata": {},
   "outputs": [
    {
     "name": "stdout",
     "output_type": "stream",
     "text": [
      "\n",
      "Series of Random numbers with DatetimeIndex for each business day of year 2015\n",
      "------------------------------------------------------------------------------\n",
      "2015-01-01 00:00:00    174\n",
      "2015-01-02 00:00:00    242\n",
      "2015-01-05 00:00:00     40\n",
      "2015-01-06 00:00:00    195\n",
      "2015-01-07 00:00:00    204\n",
      "2015-01-08 00:00:00    289\n",
      "2015-01-09 00:00:00     56\n",
      "2015-01-12 00:00:00    171\n",
      "2015-01-13 00:00:00    157\n",
      "2015-01-14 00:00:00     68\n",
      "2015-01-15 00:00:00    300\n",
      "2015-01-16 00:00:00    278\n",
      "2015-01-19 00:00:00     93\n",
      "2015-01-20 00:00:00     94\n",
      "2015-01-21 00:00:00    254\n",
      "2015-01-22 00:00:00    102\n",
      "2015-01-23 00:00:00    103\n",
      "2015-01-26 00:00:00    206\n",
      "2015-01-27 00:00:00    115\n",
      "2015-01-28 00:00:00     45\n",
      "2015-01-29 00:00:00     82\n",
      "2015-01-30 00:00:00    168\n",
      "2015-02-02 00:00:00    218\n",
      "2015-02-03 00:00:00    267\n",
      "2015-02-04 00:00:00     34\n",
      "2015-02-05 00:00:00     93\n",
      "2015-02-06 00:00:00     41\n",
      "2015-02-09 00:00:00    159\n",
      "2015-02-10 00:00:00    190\n",
      "2015-02-11 00:00:00    223\n",
      "2015-02-12 00:00:00      9\n",
      "2015-02-13 00:00:00    137\n",
      "2015-02-16 00:00:00    243\n",
      "2015-02-17 00:00:00    101\n",
      "2015-02-18 00:00:00    293\n",
      "2015-02-19 00:00:00    196\n",
      "2015-02-20 00:00:00    111\n",
      "2015-02-23 00:00:00     43\n",
      "2015-02-24 00:00:00    178\n",
      "2015-02-25 00:00:00     93\n",
      "2015-02-26 00:00:00     71\n",
      "2015-02-27 00:00:00    142\n",
      "2015-03-02 00:00:00    216\n",
      "2015-03-03 00:00:00    252\n",
      "2015-03-04 00:00:00      6\n",
      "2015-03-05 00:00:00     98\n",
      "2015-03-06 00:00:00    121\n",
      "2015-03-09 00:00:00    267\n",
      "2015-03-10 00:00:00     94\n",
      "2015-03-11 00:00:00    254\n",
      "2015-03-12 00:00:00    218\n",
      "2015-03-13 00:00:00     16\n",
      "2015-03-16 00:00:00    168\n",
      "2015-03-17 00:00:00    241\n",
      "2015-03-18 00:00:00    145\n",
      "2015-03-19 00:00:00    278\n",
      "2015-03-20 00:00:00    232\n",
      "2015-03-23 00:00:00     33\n",
      "2015-03-24 00:00:00    277\n",
      "2015-03-25 00:00:00    249\n",
      "2015-03-26 00:00:00    131\n",
      "2015-03-27 00:00:00    281\n",
      "2015-03-30 00:00:00    156\n",
      "2015-03-31 00:00:00    173\n",
      "2015-04-01 00:00:00    290\n",
      "2015-04-02 00:00:00    204\n",
      "2015-04-03 00:00:00    296\n",
      "2015-04-06 00:00:00     95\n",
      "2015-04-07 00:00:00     85\n",
      "2015-04-08 00:00:00    110\n",
      "2015-04-09 00:00:00     51\n",
      "2015-04-10 00:00:00    234\n",
      "2015-04-13 00:00:00      3\n",
      "2015-04-14 00:00:00     86\n",
      "2015-04-15 00:00:00    272\n",
      "2015-04-16 00:00:00    261\n",
      "2015-04-17 00:00:00    120\n",
      "2015-04-20 00:00:00    126\n",
      "2015-04-21 00:00:00    222\n",
      "2015-04-22 00:00:00     83\n",
      "2015-04-23 00:00:00    197\n",
      "2015-04-24 00:00:00    213\n",
      "2015-04-27 00:00:00    244\n",
      "2015-04-28 00:00:00    182\n",
      "2015-04-29 00:00:00     27\n",
      "2015-04-30 00:00:00     75\n",
      "2015-05-01 00:00:00     19\n",
      "2015-05-04 00:00:00    269\n",
      "2015-05-05 00:00:00    144\n",
      "2015-05-06 00:00:00    294\n",
      "2015-05-07 00:00:00    264\n",
      "2015-05-08 00:00:00    171\n",
      "2015-05-11 00:00:00     15\n",
      "2015-05-12 00:00:00    119\n",
      "2015-05-13 00:00:00    207\n",
      "2015-05-14 00:00:00    221\n",
      "2015-05-15 00:00:00    220\n",
      "2015-05-18 00:00:00    254\n",
      "2015-05-19 00:00:00    252\n",
      "2015-05-20 00:00:00     99\n",
      "2015-05-21 00:00:00    118\n",
      "2015-05-22 00:00:00    109\n",
      "2015-05-25 00:00:00    221\n",
      "2015-05-26 00:00:00    102\n",
      "2015-05-27 00:00:00    172\n",
      "2015-05-28 00:00:00    154\n",
      "2015-05-29 00:00:00    255\n",
      "2015-06-01 00:00:00     35\n",
      "2015-06-02 00:00:00    187\n",
      "2015-06-03 00:00:00    248\n",
      "2015-06-04 00:00:00    124\n",
      "2015-06-05 00:00:00     14\n",
      "2015-06-08 00:00:00    110\n",
      "2015-06-09 00:00:00    163\n",
      "2015-06-10 00:00:00    297\n",
      "2015-06-11 00:00:00    137\n",
      "2015-06-12 00:00:00    113\n",
      "2015-06-15 00:00:00     95\n",
      "2015-06-16 00:00:00    230\n",
      "2015-06-17 00:00:00    112\n",
      "2015-06-18 00:00:00    294\n",
      "2015-06-19 00:00:00    200\n",
      "2015-06-22 00:00:00     21\n",
      "2015-06-23 00:00:00      4\n",
      "2015-06-24 00:00:00    108\n",
      "2015-06-25 00:00:00     52\n",
      "2015-06-26 00:00:00    108\n",
      "2015-06-29 00:00:00    119\n",
      "2015-06-30 00:00:00     68\n",
      "2015-07-01 00:00:00    107\n",
      "2015-07-02 00:00:00    211\n",
      "2015-07-03 00:00:00    140\n",
      "2015-07-06 00:00:00    283\n",
      "2015-07-07 00:00:00    127\n",
      "2015-07-08 00:00:00    220\n",
      "2015-07-09 00:00:00    286\n",
      "2015-07-10 00:00:00     45\n",
      "2015-07-13 00:00:00    286\n",
      "2015-07-14 00:00:00     91\n",
      "2015-07-15 00:00:00    215\n",
      "2015-07-16 00:00:00    202\n",
      "2015-07-17 00:00:00    193\n",
      "2015-07-20 00:00:00    282\n",
      "2015-07-21 00:00:00     67\n",
      "2015-07-22 00:00:00     43\n",
      "2015-07-23 00:00:00     65\n",
      "2015-07-24 00:00:00    206\n",
      "2015-07-27 00:00:00     33\n",
      "2015-07-28 00:00:00    233\n",
      "2015-07-29 00:00:00     92\n",
      "2015-07-30 00:00:00    210\n",
      "2015-07-31 00:00:00    214\n",
      "2015-08-03 00:00:00      3\n",
      "2015-08-04 00:00:00     94\n",
      "2015-08-05 00:00:00     89\n",
      "2015-08-06 00:00:00     74\n",
      "2015-08-07 00:00:00     82\n",
      "2015-08-10 00:00:00    170\n",
      "2015-08-11 00:00:00    158\n",
      "2015-08-12 00:00:00    229\n",
      "2015-08-13 00:00:00    265\n",
      "2015-08-14 00:00:00    267\n",
      "2015-08-17 00:00:00    164\n",
      "2015-08-18 00:00:00    249\n",
      "2015-08-19 00:00:00     56\n",
      "2015-08-20 00:00:00    135\n",
      "2015-08-21 00:00:00    277\n",
      "2015-08-24 00:00:00    153\n",
      "2015-08-25 00:00:00    191\n",
      "2015-08-26 00:00:00    218\n",
      "2015-08-27 00:00:00    291\n",
      "2015-08-28 00:00:00    222\n",
      "2015-08-31 00:00:00     61\n",
      "2015-09-01 00:00:00    179\n",
      "2015-09-02 00:00:00    293\n",
      "2015-09-03 00:00:00    273\n",
      "2015-09-04 00:00:00    183\n",
      "2015-09-07 00:00:00     69\n",
      "2015-09-08 00:00:00    210\n",
      "2015-09-09 00:00:00    103\n",
      "2015-09-10 00:00:00     40\n",
      "2015-09-11 00:00:00    145\n",
      "2015-09-14 00:00:00     64\n",
      "2015-09-15 00:00:00    215\n",
      "2015-09-16 00:00:00    145\n",
      "2015-09-17 00:00:00    102\n",
      "2015-09-18 00:00:00    254\n",
      "2015-09-21 00:00:00    243\n",
      "2015-09-22 00:00:00    166\n",
      "2015-09-23 00:00:00    174\n",
      "2015-09-24 00:00:00    209\n",
      "2015-09-25 00:00:00    224\n",
      "2015-09-28 00:00:00     27\n",
      "2015-09-29 00:00:00     55\n",
      "2015-09-30 00:00:00    202\n",
      "2015-10-01 00:00:00    124\n",
      "2015-10-02 00:00:00    251\n",
      "2015-10-05 00:00:00    220\n",
      "2015-10-06 00:00:00    206\n",
      "2015-10-07 00:00:00    281\n",
      "2015-10-08 00:00:00     15\n",
      "2015-10-09 00:00:00    193\n",
      "2015-10-12 00:00:00     30\n",
      "2015-10-13 00:00:00    147\n",
      "2015-10-14 00:00:00    130\n",
      "2015-10-15 00:00:00    172\n",
      "2015-10-16 00:00:00    105\n",
      "2015-10-19 00:00:00     39\n",
      "2015-10-20 00:00:00     82\n",
      "2015-10-21 00:00:00    126\n",
      "2015-10-22 00:00:00    236\n",
      "2015-10-23 00:00:00     69\n",
      "2015-10-26 00:00:00     94\n",
      "2015-10-27 00:00:00    221\n",
      "2015-10-28 00:00:00     39\n",
      "2015-10-29 00:00:00     21\n",
      "2015-10-30 00:00:00    250\n",
      "2015-11-02 00:00:00    140\n",
      "2015-11-03 00:00:00    137\n",
      "2015-11-04 00:00:00    193\n",
      "2015-11-05 00:00:00     47\n",
      "2015-11-06 00:00:00    132\n",
      "2015-11-09 00:00:00    283\n",
      "2015-11-10 00:00:00    286\n",
      "2015-11-11 00:00:00    241\n",
      "2015-11-12 00:00:00    213\n",
      "2015-11-13 00:00:00     38\n",
      "2015-11-16 00:00:00    207\n",
      "2015-11-17 00:00:00    195\n",
      "2015-11-18 00:00:00    255\n",
      "2015-11-19 00:00:00    239\n",
      "2015-11-20 00:00:00     56\n",
      "2015-11-23 00:00:00    231\n",
      "2015-11-24 00:00:00    144\n",
      "2015-11-25 00:00:00    139\n",
      "2015-11-26 00:00:00    109\n",
      "2015-11-27 00:00:00      9\n",
      "2015-11-30 00:00:00    115\n",
      "2015-12-01 00:00:00      6\n",
      "2015-12-02 00:00:00    214\n",
      "2015-12-03 00:00:00    211\n",
      "2015-12-04 00:00:00     86\n",
      "2015-12-07 00:00:00     20\n",
      "2015-12-08 00:00:00    183\n",
      "2015-12-09 00:00:00     97\n",
      "2015-12-10 00:00:00     69\n",
      "2015-12-11 00:00:00    141\n",
      "2015-12-14 00:00:00    210\n",
      "2015-12-15 00:00:00    167\n",
      "2015-12-16 00:00:00    167\n",
      "2015-12-17 00:00:00    250\n",
      "2015-12-18 00:00:00     95\n",
      "2015-12-21 00:00:00      8\n",
      "2015-12-22 00:00:00    120\n",
      "2015-12-23 00:00:00    295\n",
      "2015-12-24 00:00:00    188\n",
      "2015-12-25 00:00:00    283\n",
      "2015-12-28 00:00:00    174\n",
      "2015-12-29 00:00:00     42\n",
      "2015-12-30 00:00:00     38\n",
      "2015-12-31 00:00:00     64\n",
      "-----------------------------------------------------------------------------------------------\n"
     ]
    }
   ],
   "source": [
    "import random\n",
    "import datetime\n",
    "import calendar\n",
    "from pandas.tseries.offsets import BDay\n",
    "import pandas as pd\n",
    "\n",
    "def all_businessdays(year):\n",
    "# January 1st of the given year and get the next business day if the 1st is on weekend\n",
    "       dt = datetime.date(year, 1, 1)\n",
    "       dt += BDay()\n",
    "# December 31st of the previuos year and get the next business day of the next year\n",
    "       prev_dt = datetime.date(year-1, 12, 31)\n",
    "       prev_dt += BDay()\n",
    "       \n",
    "       yield prev_dt\n",
    "# Iterating through the loop and get the next business day untill the end of year is not weekend  \n",
    "       while dt.year == year:\n",
    "        yield dt\n",
    "        dt += BDay()\n",
    "\n",
    "# DatetimeIndex created for each business day of the given year and used it to index a Series of random numbers\n",
    "index_lab = []\n",
    "random_number = []\n",
    "index_first_four_month = []\n",
    "index_middle_four_month = []\n",
    "index_last_four_month = []\n",
    "for bdatetime in all_businessdays(2015):\n",
    "    bdatetime = str(bdatetime)\n",
    "    index_lab.append(bdatetime)\n",
    "    random_number.append(random.randint(1,300))\n",
    "    if('01' in bdatetime[5:7] or '02' in bdatetime[5:7] or '03' in bdatetime[5:7] or '04' in bdatetime[5:7]):\n",
    "        index_first_four_month.append(bdatetime)\n",
    "    elif('05' in bdatetime[5:7] or '06' in bdatetime[5:7] or '07' in bdatetime[5:7] or '08' in bdatetime[5:7]):\n",
    "        index_middle_four_month.append(bdatetime)\n",
    "    else:\n",
    "        index_last_four_month.append(bdatetime)\n",
    "        \n",
    "business_random = pd.Series(random_number,index = index_lab)\n",
    "print(\"\\nSeries of Random numbers with DatetimeIndex for each business day of year 2015\\n\",'-'*78, sep='')\n",
    "print(business_random.to_string())\n",
    "print('-'*95, sep='')\n",
    "wednesday_index_lab = []\n",
    "month_index_lab = []\n",
    "for dt in index_lab:\n",
    "    date_only = pd.to_datetime(dt)\n",
    "    month = date_only.month\n",
    "    year = date_only.month\n",
    "    day = date_only.day\n",
    "    ans = datetime.date(year, month, day)\n",
    "    wednesday_index_lab.append(ans.strftime(\"%A\"))\n",
    "    month_index_lab.append(month)\n",
    "\n",
    "business_random.index = wednesday_index_lab"
   ]
  },
  {
   "cell_type": "markdown",
   "metadata": {},
   "source": [
    "3. Find the sum of the values in 's' for every Wednesday"
   ]
  },
  {
   "cell_type": "code",
   "execution_count": 7,
   "metadata": {},
   "outputs": [
    {
     "name": "stdout",
     "output_type": "stream",
     "text": [
      "Sum of the values for every Wednesday of year 2015 is 5804\n",
      "-----------------------------------------------------------------------------------------------\n"
     ]
    }
   ],
   "source": [
    "print(\"Sum of the values for every Wednesday of year 2015 is %d\\n\" %business_random.loc['Wednesday'].sum(),'-'*95, sep='')\n",
    "business_random.index = month_index_lab"
   ]
  },
  {
   "cell_type": "markdown",
   "metadata": {},
   "source": [
    "4. Average for each calendar month. "
   ]
  },
  {
   "cell_type": "code",
   "execution_count": 8,
   "metadata": {},
   "outputs": [
    {
     "name": "stdout",
     "output_type": "stream",
     "text": [
      "Average value for January'2015 is 156.18\n",
      "Average value for February'2015 is 142.10\n",
      "Average value for March'2015 is 177.55\n",
      "Average value for April'2015 is 158.00\n",
      "Average value for May'2015 is 175.19\n",
      "Average value for June'2015 is 129.05\n",
      "Average value for July'2015 is 167.43\n",
      "Average value for August'2015 is 164.19\n",
      "Average value for September'2015 is 162.50\n",
      "Average value for October'2015 is 138.68\n",
      "Average value for November'2015 is 162.33\n",
      "Average value for December'2015 is 136.00\n",
      "-----------------------------------------------------------------------------------------------\n"
     ]
    }
   ],
   "source": [
    "for mon in range(1,13):\n",
    "    print(\"Average value for %s'2015 is %0.2f\" %(calendar.month_name[mon],business_random.loc[mon].mean()))\n",
    "print('-'*95, sep='')"
   ]
  },
  {
   "cell_type": "markdown",
   "metadata": {},
   "source": [
    "5. For each group of four consecutive calendar months in 'S', find the date on which the highest value occured. "
   ]
  },
  {
   "cell_type": "code",
   "execution_count": 9,
   "metadata": {},
   "outputs": [
    {
     "name": "stdout",
     "output_type": "stream",
     "text": [
      "The date with the maximum value being 300 for first 4 months of 2015 is 2015-01-15 00:00:00\n",
      "The date with the maximum value being 297 for middle 4 months of 2015 is 2015-06-10 00:00:00\n",
      "The date with the maximum value being 295 for last 4 months of 2015 is 2015-12-23 00:00:00\n",
      "-----------------------------------------------------------------------------------------------\n"
     ]
    }
   ],
   "source": [
    "business_random.index = index_lab\n",
    "\n",
    "first_date_of_first_four_month= index_first_four_month[0]\n",
    "last_date_of_first_four_month= index_first_four_month[len(index_first_four_month)-1]\n",
    "value_max_date_of_first_four_month = max(business_random.loc[first_date_of_first_four_month:last_date_of_first_four_month])\n",
    "max_date_of_first_four_month = business_random[business_random == value_max_date_of_first_four_month].index[0]\n",
    "print(\"The date with the maximum value being %d for first 4 months of 2015 is %s\" %(value_max_date_of_first_four_month,max_date_of_first_four_month))\n",
    "\n",
    "first_date_of_middle_four_month= index_middle_four_month[0]\n",
    "last_date_of_middle_four_month= index_middle_four_month[len(index_first_four_month)-1]\n",
    "value_max_date_of_middle_four_month = max(business_random.loc[first_date_of_middle_four_month:last_date_of_middle_four_month])\n",
    "max_date_of_middle_four_month = business_random[business_random == value_max_date_of_middle_four_month].index[0]\n",
    "print(\"The date with the maximum value being %d for middle 4 months of 2015 is %s\" %(value_max_date_of_middle_four_month,max_date_of_middle_four_month))\n",
    "\n",
    "first_date_of_last_four_month= index_last_four_month[0]\n",
    "last_date_of_last_four_month= index_last_four_month[len(index_last_four_month)-1]\n",
    "value_max_date_of_last_four_month = max(business_random.loc[first_date_of_last_four_month:last_date_of_last_four_month])\n",
    "max_date_of_last_four_month = business_random[business_random == value_max_date_of_last_four_month].index[0]\n",
    "print(\"The date with the maximum value being %d for last 4 months of 2015 is %s\" %(value_max_date_of_last_four_month,max_date_of_last_four_month))\n",
    "print('-'*95, sep='')"
   ]
  },
  {
   "cell_type": "markdown",
   "metadata": {},
   "source": [
    "##### Problem Statemetn 2:"
   ]
  },
  {
   "cell_type": "markdown",
   "metadata": {},
   "source": [
    "Read the dataset from the below link\n",
    "https://raw.githubusercontent.com/guipsamora/pandas_exercises/master/06_Stats/US_Baby_Names/US_Baby_Names_right.csv\n",
    "1. Delete unnamed columns. \n",
    "2. Show the distribution of male and female.\n",
    "3. Show the top 5 most preferred names.\n",
    "4. What is the median name occurrence in the dataset.\n",
    "5. Distribution of male and female born count by states. "
   ]
  },
  {
   "cell_type": "code",
   "execution_count": 11,
   "metadata": {},
   "outputs": [],
   "source": [
    "import pandas as pd\n",
    "df = pd.read_csv('https://raw.githubusercontent.com/guipsamora/pandas_exercises/master/06_Stats/US_Baby_Names/US_Baby_Names_right.csv')"
   ]
  },
  {
   "cell_type": "code",
   "execution_count": 12,
   "metadata": {},
   "outputs": [
    {
     "name": "stdout",
     "output_type": "stream",
     "text": [
      "Before deleting unnamed columns\n",
      "-------------------------------\n",
      "   Unnamed: 0     Id     Name  Year Gender State  Count\n",
      "0       11349  11350     Emma  2004      F    AK     62\n",
      "1       11350  11351  Madison  2004      F    AK     48\n",
      "2       11351  11352   Hannah  2004      F    AK     46\n",
      "3       11352  11353    Grace  2004      F    AK     44\n",
      "4       11353  11354    Emily  2004      F    AK     41\n"
     ]
    }
   ],
   "source": [
    "print(\"Before deleting unnamed columns\")\n",
    "print('-'*31, sep='')\n",
    "print(df.head())"
   ]
  },
  {
   "cell_type": "markdown",
   "metadata": {},
   "source": [
    "1. Delete unnamed columns. "
   ]
  },
  {
   "cell_type": "code",
   "execution_count": 13,
   "metadata": {},
   "outputs": [
    {
     "name": "stdout",
     "output_type": "stream",
     "text": [
      "\n",
      "After deleting unnamed columns\n",
      "------------------------------\n",
      "      Id     Name  Year Gender State  Count\n",
      "0  11350     Emma  2004      F    AK     62\n",
      "1  11351  Madison  2004      F    AK     48\n",
      "2  11352   Hannah  2004      F    AK     46\n",
      "3  11353    Grace  2004      F    AK     44\n",
      "4  11354    Emily  2004      F    AK     41\n"
     ]
    }
   ],
   "source": [
    "print(\"\\nAfter deleting unnamed columns\")\n",
    "print('-'*30, sep='')\n",
    "del df['Unnamed: 0']  # Delete unnamed columns\n",
    "print(df.head())"
   ]
  },
  {
   "cell_type": "markdown",
   "metadata": {},
   "source": [
    "2. Show the distribution of Male and Female"
   ]
  },
  {
   "cell_type": "code",
   "execution_count": 16,
   "metadata": {},
   "outputs": [
    {
     "name": "stdout",
     "output_type": "stream",
     "text": [
      "\n",
      "Distribution of Male and Female\n",
      "-------------------------------\n",
      "Total number of Males are 457549\n",
      "Total number of Females are 558846\n"
     ]
    }
   ],
   "source": [
    "print(\"\\nDistribution of Male and Female\")\n",
    "print('-'*31, sep='')\n",
    "print(\"Total number of Males are %d\"%len(df[df.Gender=='M']))\n",
    "print(\"Total number of Females are %d\"%len(df[df.Gender=='F']))"
   ]
  },
  {
   "cell_type": "markdown",
   "metadata": {},
   "source": [
    "3. Show the top 5 most preferred names."
   ]
  },
  {
   "cell_type": "code",
   "execution_count": 17,
   "metadata": {},
   "outputs": [
    {
     "name": "stdout",
     "output_type": "stream",
     "text": [
      "\n",
      "Top 5 most preferred names\n",
      "---------------------------\n",
      "Jacob has occurance of 242874 times\n",
      "Emma has occurance of 214852 times\n",
      "Michael has occurance of 214405 times\n",
      "Ethan has occurance of 209277 times\n",
      "Isabella has occurance of 204798 times\n"
     ]
    }
   ],
   "source": [
    "print(\"\\nTop 5 most preferred names\")\n",
    "print('-'*27, sep='')\n",
    "result =df.groupby(['Name'])[\"Count\"].sum() # Grouping on the basis of Name and adding their count occurences\n",
    "Top5 = result.reset_index().sort_values('Count',ascending=False).set_index('Count').head(5) # Show the top 5 most preferred names\n",
    "for lab, row in Top5.iterrows() :\n",
    "    print(row['Name'] + \" has occurance of \" + str(lab) + \" times\")"
   ]
  },
  {
   "cell_type": "markdown",
   "metadata": {},
   "source": [
    "4. What is the median name occurrence in the dataset."
   ]
  },
  {
   "cell_type": "code",
   "execution_count": 18,
   "metadata": {},
   "outputs": [
    {
     "name": "stdout",
     "output_type": "stream",
     "text": [
      "\n",
      "Median is 49.000000\n",
      "Median name occurence in the dataset are as follows :-\n",
      "-------------------------------------------------------\n",
      "Name\n",
      "Aishani       49\n",
      "Alara         49\n",
      "Alysse        49\n",
      "Ameir         49\n",
      "Anely         49\n",
      "Antonina      49\n",
      "Aveline       49\n",
      "Aziah         49\n",
      "Baily         49\n",
      "Caleah        49\n",
      "Carlota       49\n",
      "Cristine      49\n",
      "Dahlila       49\n",
      "Darvin        49\n",
      "Deante        49\n",
      "Deserae       49\n",
      "Devean        49\n",
      "Elizah        49\n",
      "Emmaly        49\n",
      "Emmanuela     49\n",
      "Envy          49\n",
      "Esli          49\n",
      "Fay           49\n",
      "Gurshaan      49\n",
      "Hareem        49\n",
      "Iven          49\n",
      "Jaice         49\n",
      "Jaiyana       49\n",
      "Jamiracle     49\n",
      "Jelissa       49\n",
      "              ..\n",
      "Kyndle        49\n",
      "Kynsley       49\n",
      "Leylanie      49\n",
      "Maisha        49\n",
      "Malillany     49\n",
      "Mariann       49\n",
      "Marquell      49\n",
      "Maurilio      49\n",
      "Mckynzie      49\n",
      "Mehdi         49\n",
      "Nabeel        49\n",
      "Nalleli       49\n",
      "Nassir        49\n",
      "Nazier        49\n",
      "Nishant       49\n",
      "Rebecka       49\n",
      "Reghan        49\n",
      "Ridwan        49\n",
      "Riot          49\n",
      "Rubin         49\n",
      "Ryatt         49\n",
      "Sameera       49\n",
      "Sanjuanita    49\n",
      "Shalyn        49\n",
      "Skylie        49\n",
      "Sriram        49\n",
      "Trinton       49\n",
      "Vita          49\n",
      "Yoni          49\n",
      "Zuleima       49\n",
      "Name: Count, Length: 66, dtype: int64\n"
     ]
    }
   ],
   "source": [
    "Median = result.median()\n",
    "print(\"\\nMedian is %f\" %Median)\n",
    "print(\"Median name occurence in the dataset are as follows :-\")\n",
    "print('-'*55, sep='')\n",
    "print(result[result==int(Median)]) # Median name occurence in the dataset"
   ]
  },
  {
   "cell_type": "markdown",
   "metadata": {},
   "source": [
    "5. Distribution of male and female born count by states. "
   ]
  },
  {
   "cell_type": "code",
   "execution_count": 19,
   "metadata": {},
   "outputs": [
    {
     "name": "stdout",
     "output_type": "stream",
     "text": [
      "-------------------------------------------------------\n",
      "Total Number of Females in Alaska are 2404\n",
      "Total Number of Females in Alabama are 9878\n",
      "Total Number of Males in Alaska are 2587\n",
      "Total Number of Males in Alabama are 8419\n",
      "-------------------------------------------------------\n"
     ]
    }
   ],
   "source": [
    "dist_gender_state_result =df.groupby(['Gender','State'])[\"Count\"].count() # Grouping of male and female born count by states\n",
    "#print(dist_gender_state_result)\n",
    "print('-'*55, sep='')\n",
    "print(\"Total Number of Females in Alaska are %d\"%dist_gender_state_result['F']['AK'])\n",
    "print(\"Total Number of Females in Alabama are %d\"%dist_gender_state_result['F']['AL'])\n",
    "print(\"Total Number of Males in Alaska are %d\"%dist_gender_state_result['M']['AK'])\n",
    "print(\"Total Number of Males in Alabama are %d\"%dist_gender_state_result['M']['AL'])\n",
    "print('-'*55, sep='')"
   ]
  }
 ],
 "metadata": {
  "kernelspec": {
   "display_name": "Python 3",
   "language": "python",
   "name": "python3"
  },
  "language_info": {
   "codemirror_mode": {
    "name": "ipython",
    "version": 3
   },
   "file_extension": ".py",
   "mimetype": "text/x-python",
   "name": "python",
   "nbconvert_exporter": "python",
   "pygments_lexer": "ipython3",
   "version": "3.7.5"
  }
 },
 "nbformat": 4,
 "nbformat_minor": 2
}
