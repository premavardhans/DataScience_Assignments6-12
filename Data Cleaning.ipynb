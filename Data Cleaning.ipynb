{
 "cells": [
  {
   "cell_type": "markdown",
   "metadata": {},
   "source": [
    "# Data cleaning - Assignments"
   ]
  },
  {
   "cell_type": "markdown",
   "metadata": {},
   "source": [
    "#### Problem Statement"
   ]
  },
  {
   "cell_type": "markdown",
   "metadata": {},
   "source": [
    "It happens all the time: someone gives you data containing malformed strings, Python, lists and missing data.\n",
    "How do you tidy it up so you can get on with the analysis?\n",
    "\n",
    "Take this monstrosity as the DataFrame to use in the following puzzles:\n",
    "\n",
    "df = pd.DataFrame({'From_To':['LoNDon_paris', 'MAdrid_miLAN', 'londON_StockhOlm', 'Budapest_PaRis', 'Brussels_londOn'],\n",
    "                  'FlightNumber':[10045, np.nan, 10065, np.nan, 10085],\n",
    "                  'RecentDelays':[[23, 47], [],[24, 43, 87], [13],[67,32]],\n",
    "                  'Airline':['KLM(!)','<Air France>(12)', '(British Airways.)',\n",
    "                            '12.Air France', \"Swiss Air\"]})\n",
    "1. Some values in the FlightNumber column are missing. These numbers are meant to increase by 10 with each row so \n",
    "10055 and 10075 need to be put in place. Fill in these missing numbers and make the column an integer column\n",
    "(instead of a float column).\n",
    "\n",
    "2. The From_To column would be better as two separate columns! Split each string on the underscore delimiter _ to\n",
    "give a new temporary DataFrame with the correct values. Assign the correct column names to this temporary DataFrame.\n",
    "\n",
    "3. Notice how the capitalisation of the city names is all mixed up in this temporary DataFrame. Standardise the \n",
    "strings so that only the first letter is uppercase (e.g., 'londON' should become 'London'.)\n",
    "\n",
    "4. Delete the From_To column from df and attach the temporary DataFrame from the previous questions.\n",
    "\n",
    "5. In the RecentDelays column, the values have been entered into the DataFrame as a list. We would like each first \n",
    "value in its own column, each second value in its own column, and so on. If there isn't an Nth value, the value\n",
    "should be NaN.\n",
    "\n",
    "Expand the Series of lists into a DataFrame named delays, rename the columns delay_1, delay_2 etc. and replace the \n",
    "unwanted RecentDelays column in df with delays. "
   ]
  },
  {
   "cell_type": "code",
   "execution_count": 38,
   "metadata": {},
   "outputs": [],
   "source": [
    "import pandas as pd\n",
    "import numpy as np"
   ]
  },
  {
   "cell_type": "code",
   "execution_count": 40,
   "metadata": {},
   "outputs": [
    {
     "data": {
      "text/html": [
       "<div>\n",
       "<style scoped>\n",
       "    .dataframe tbody tr th:only-of-type {\n",
       "        vertical-align: middle;\n",
       "    }\n",
       "\n",
       "    .dataframe tbody tr th {\n",
       "        vertical-align: top;\n",
       "    }\n",
       "\n",
       "    .dataframe thead th {\n",
       "        text-align: right;\n",
       "    }\n",
       "</style>\n",
       "<table border=\"1\" class=\"dataframe\">\n",
       "  <thead>\n",
       "    <tr style=\"text-align: right;\">\n",
       "      <th></th>\n",
       "      <th>From_To</th>\n",
       "      <th>FlightNumber</th>\n",
       "      <th>RecentDelays</th>\n",
       "      <th>Airline</th>\n",
       "    </tr>\n",
       "  </thead>\n",
       "  <tbody>\n",
       "    <tr>\n",
       "      <th>0</th>\n",
       "      <td>LoNDon_paris</td>\n",
       "      <td>10045.0</td>\n",
       "      <td>[23, 47]</td>\n",
       "      <td>KLM(!)</td>\n",
       "    </tr>\n",
       "    <tr>\n",
       "      <th>1</th>\n",
       "      <td>MAdrid_miLAN</td>\n",
       "      <td>NaN</td>\n",
       "      <td>[]</td>\n",
       "      <td>&lt;Air France&gt;(12)</td>\n",
       "    </tr>\n",
       "    <tr>\n",
       "      <th>2</th>\n",
       "      <td>londON_StockhOlm</td>\n",
       "      <td>10065.0</td>\n",
       "      <td>[24, 43, 87]</td>\n",
       "      <td>(British Airways.)</td>\n",
       "    </tr>\n",
       "    <tr>\n",
       "      <th>3</th>\n",
       "      <td>Budapest_PaRis</td>\n",
       "      <td>NaN</td>\n",
       "      <td>[13]</td>\n",
       "      <td>12.Air France</td>\n",
       "    </tr>\n",
       "    <tr>\n",
       "      <th>4</th>\n",
       "      <td>Brussels_londOn</td>\n",
       "      <td>10085.0</td>\n",
       "      <td>[67, 32]</td>\n",
       "      <td>Swiss Air</td>\n",
       "    </tr>\n",
       "  </tbody>\n",
       "</table>\n",
       "</div>"
      ],
      "text/plain": [
       "            From_To  FlightNumber  RecentDelays             Airline\n",
       "0      LoNDon_paris       10045.0      [23, 47]              KLM(!)\n",
       "1      MAdrid_miLAN           NaN            []    <Air France>(12)\n",
       "2  londON_StockhOlm       10065.0  [24, 43, 87]  (British Airways.)\n",
       "3    Budapest_PaRis           NaN          [13]       12.Air France\n",
       "4   Brussels_londOn       10085.0      [67, 32]           Swiss Air"
      ]
     },
     "execution_count": 40,
     "metadata": {},
     "output_type": "execute_result"
    }
   ],
   "source": [
    "df = pd.DataFrame({'From_To':['LoNDon_paris', 'MAdrid_miLAN', 'londON_StockhOlm', 'Budapest_PaRis', 'Brussels_londOn'],\n",
    "                  'FlightNumber':[10045, np.nan, 10065, np.nan, 10085],\n",
    "                  'RecentDelays':[[23, 47], [],[24, 43, 87], [13],[67,32]],\n",
    "                  'Airline':['KLM(!)','<Air France>(12)', '(British Airways.)',\n",
    "                            '12.Air France', \"Swiss Air\"]})\n",
    "df"
   ]
  },
  {
   "cell_type": "code",
   "execution_count": 44,
   "metadata": {},
   "outputs": [
    {
     "name": "stdout",
     "output_type": "stream",
     "text": [
      "Missing values in FlightNumber column is incremented by 10 with starting value as 10045\n",
      "---------------------------------------------------------------------------------------\n",
      "            From_To  FlightNumber  RecentDelays             Airline\n",
      "0      LoNDon_paris         10045      [23, 47]              KLM(!)\n",
      "1      MAdrid_miLAN         10055            []    <Air France>(12)\n",
      "2  londON_StockhOlm         10065  [24, 43, 87]  (British Airways.)\n",
      "3    Budapest_PaRis         10075          [13]       12.Air France\n",
      "4   Brussels_londOn         10085      [67, 32]           Swiss Air\n"
     ]
    }
   ],
   "source": [
    "'''1. Some values in the FlightNumber column are missing. These numbers are meant to increase by 10 with each row so \n",
    "10055 and 10075 need to be put in place. Fill in these missing numbers and make the column an integer column\n",
    "(instead of a float column).'''\n",
    "\n",
    "print(\"Missing values in FlightNumber column is incremented by 10 with starting value as 10045\\n\",'-'*87, sep='')\n",
    "def create_list(x,y):\n",
    "    for i in range(1,y):\n",
    "        df.loc[i,'FlightNumber'] = df.loc[i-1,'FlightNumber']+10\n",
    "\n",
    "df['FlightNumber'].fillna(0, inplace=True)\n",
    "df['FlightNumber'] = df['FlightNumber'].astype(int)\n",
    "First_Flightnumber = df.loc[0,'FlightNumber']\n",
    "create_list(First_Flightnumber,len(df.FlightNumber))\n",
    "print(df)"
   ]
  },
  {
   "cell_type": "code",
   "execution_count": 46,
   "metadata": {},
   "outputs": [
    {
     "name": "stdout",
     "output_type": "stream",
     "text": [
      "Splitting From_To column with delimiter as underscore and assign those columns and their associated values to a temporary dataframe\n",
      "-----------------------------------------------------------------------------------------------------------------------------\n",
      "       From         To\n",
      "0    LoNDon      paris\n",
      "1    MAdrid      miLAN\n",
      "2    londON  StockhOlm\n",
      "3  Budapest      PaRis\n",
      "4  Brussels     londOn\n"
     ]
    }
   ],
   "source": [
    "'''2. The From_To column would be better as two separate columns! Split each string on the underscore delimiter _ to\n",
    "give a new temporary DataFrame with the correct values. Assign the correct column names to this temporary DataFrame.'''\n",
    "\n",
    "print(\"Splitting From_To column with delimiter as underscore and assign those columns and their associated values to a temporary dataframe\\n\",'-'*125, sep='')\n",
    "def Fromsplitstring(str):\n",
    "    return str.split('_')[0]\n",
    "\n",
    "def Tosplitstring(str):\n",
    "    return str.split('_')[1]\n",
    "\n",
    "FromList = df['From_To'].apply(Fromsplitstring)\n",
    "ToList = df['From_To'].apply(Tosplitstring)\n",
    "temporary = pd.DataFrame()\n",
    "temporary[\"From\"] = FromList\n",
    "temporary[\"To\"] = ToList\n",
    "print(temporary)"
   ]
  },
  {
   "cell_type": "code",
   "execution_count": 48,
   "metadata": {},
   "outputs": [
    {
     "name": "stdout",
     "output_type": "stream",
     "text": [
      "Make first letter of From and To column values of temporary dataframe as uppercase\n",
      "----------------------------------------------------------------------------------\n",
      "       From         To\n",
      "0    London      Paris\n",
      "1    Madrid      Milan\n",
      "2    London  Stockholm\n",
      "3  Budapest      Paris\n",
      "4  Brussels     London\n"
     ]
    }
   ],
   "source": [
    "'''3. Notice how the capitalisation of the city names is all mixed up in this temporary DataFrame. Standardise the \n",
    "strings so that only the first letter is uppercase (e.g., 'londON' should become 'London'.)'''\n",
    "\n",
    "print(\"Make first letter of From and To column values of temporary dataframe as uppercase\\n\",'-'*82, sep='')\n",
    "temporary['From'] = list(map(lambda str : str.title(),temporary.From))\n",
    "temporary['To'] = list(map(lambda str : str.title(),temporary.To))\n",
    "print(temporary)"
   ]
  },
  {
   "cell_type": "code",
   "execution_count": 50,
   "metadata": {},
   "outputs": [
    {
     "name": "stdout",
     "output_type": "stream",
     "text": [
      "Delete the From_To column from flights dataframe and attach the temporary dataFrame with flights\n",
      "-----------------------------------------------------------------------------------------------\n",
      "       From         To  FlightNumber  RecentDelays             Airline\n",
      "0    London      Paris         10045      [23, 47]              KLM(!)\n",
      "1    Madrid      Milan         10055            []    <Air France>(12)\n",
      "2    London  Stockholm         10065  [24, 43, 87]  (British Airways.)\n",
      "3  Budapest      Paris         10075          [13]       12.Air France\n",
      "4  Brussels     London         10085      [67, 32]           Swiss Air\n"
     ]
    }
   ],
   "source": [
    "'''4. Delete the From_To column from df and attach the temporary DataFrame from the previous questions.'''\n",
    "\n",
    "print(\"Delete the From_To column from flights dataframe and attach the temporary dataFrame with flights\\n\",'-'*95, sep='')\n",
    "df.drop('From_To', axis=1, inplace=True)\n",
    "df = pd.concat([temporary, df], axis=1)\n",
    "print(df)"
   ]
  },
  {
   "cell_type": "code",
   "execution_count": 52,
   "metadata": {},
   "outputs": [
    {
     "name": "stdout",
     "output_type": "stream",
     "text": [
      "Split RecentDelays column like delay_1,delay_2, etc. based on the maximum no. of elements present in the list among other lists and replace the unwanted RecentDelays column in flights dataframe with delays\n",
      "-------------------------------------------------------------------------------------------------------------------------------------------------------------------------------------------------------------\n",
      "       From         To  FlightNumber             Airline  delay_1  delay_2  \\\n",
      "0    London      Paris         10045              KLM(!)     23.0     47.0   \n",
      "1    Madrid      Milan         10055    <Air France>(12)      NaN      NaN   \n",
      "2    London  Stockholm         10065  (British Airways.)     24.0     43.0   \n",
      "3  Budapest      Paris         10075       12.Air France     13.0      NaN   \n",
      "4  Brussels     London         10085           Swiss Air     67.0     32.0   \n",
      "\n",
      "   delay_3  \n",
      "0      NaN  \n",
      "1      NaN  \n",
      "2     87.0  \n",
      "3      NaN  \n",
      "4      NaN  \n"
     ]
    }
   ],
   "source": [
    "'''5. In the RecentDelays column, the values have been entered into the DataFrame as a list. We would like each first \n",
    "value in its own column, each second value in its own column, and so on. If there isn't an Nth value, the value\n",
    "should be NaN.'''\n",
    "\n",
    "'''Expand the Series of lists into a DataFrame named delays, rename the columns delay_1, delay_2 etc. and replace the \n",
    "unwanted RecentDelays column in df with delays. '''\n",
    "\n",
    "print(\"Split RecentDelays column like delay_1,delay_2, etc. based on the maximum no. of elements present in the list among other lists and replace the unwanted RecentDelays column in flights dataframe with delays\\n\",'-'*205, sep='')\n",
    "def DelayListParse(x):\n",
    "    return len(x)   \n",
    "\n",
    "DelayList = list(map(lambda x : len(x),df.RecentDelays))\n",
    "max_columns = max(DelayList)\n",
    "#print(DelayList)\n",
    "New_RecentDelays = []\n",
    "Two_dim_RecentDelays = []\n",
    "for outeritems in df.RecentDelays:\n",
    "    New_RecentDelays = outeritems\n",
    "    count = len(outeritems)\n",
    "    while(count<max_columns):\n",
    "        New_RecentDelays.append(np.NaN)\n",
    "        count +=1\n",
    "    Two_dim_RecentDelays.append(New_RecentDelays)\n",
    "#print(Two_dim_RecentDelays)\n",
    "Delays = pd.DataFrame(Two_dim_RecentDelays)\n",
    "column_list = []\n",
    "for count in range(1,max_columns+1):\n",
    "    column_list.append('delay_'+str(count))\n",
    "Delays.columns = column_list\n",
    "#print(Delays)\n",
    "df.drop('RecentDelays', axis=1, inplace=True)\n",
    "df = pd.concat([df, Delays], axis=1)\n",
    "print(df)\n"
   ]
  }
 ],
 "metadata": {
  "kernelspec": {
   "display_name": "Python 3",
   "language": "python",
   "name": "python3"
  },
  "language_info": {
   "codemirror_mode": {
    "name": "ipython",
    "version": 3
   },
   "file_extension": ".py",
   "mimetype": "text/x-python",
   "name": "python",
   "nbconvert_exporter": "python",
   "pygments_lexer": "ipython3",
   "version": "3.7.5"
  }
 },
 "nbformat": 4,
 "nbformat_minor": 2
}
