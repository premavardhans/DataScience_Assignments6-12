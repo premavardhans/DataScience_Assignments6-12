{
 "cells": [
  {
   "cell_type": "markdown",
   "metadata": {},
   "source": [
    "# Numpy"
   ]
  },
  {
   "cell_type": "markdown",
   "metadata": {},
   "source": [
    "### Assignments"
   ]
  },
  {
   "cell_type": "markdown",
   "metadata": {},
   "source": [
    "##### Problem Statement 1"
   ]
  },
  {
   "cell_type": "markdown",
   "metadata": {},
   "source": [
    "Write a function so that the columns of the output matrix are powers of the input vector"
   ]
  },
  {
   "cell_type": "markdown",
   "metadata": {},
   "source": [
    "The order of the powers is determined by the increasing boolean argument. Specifically, when increasingis False, the ith output column is the input vector raised element-wise to the power of (N-i-1). "
   ]
  },
  {
   "cell_type": "markdown",
   "metadata": {},
   "source": [
    "Hint: Such a matrix with a geometric progression in each row is named for Alexandre Theophile Vandermonde. "
   ]
  },
  {
   "cell_type": "code",
   "execution_count": 3,
   "metadata": {},
   "outputs": [],
   "source": [
    "import numpy as np"
   ]
  },
  {
   "cell_type": "code",
   "execution_count": 21,
   "metadata": {},
   "outputs": [],
   "source": [
    "# x - 1-D input array. \n",
    "x = np.array([1,2,3,5])"
   ]
  },
  {
   "cell_type": "code",
   "execution_count": 22,
   "metadata": {},
   "outputs": [],
   "source": [
    "# N - Number of columns in the output if 'N' is not specified a square array is returned (N=len(x))\n",
    "N = 3"
   ]
  },
  {
   "cell_type": "code",
   "execution_count": 23,
   "metadata": {},
   "outputs": [
    {
     "data": {
      "text/plain": [
       "array([[ 1,  1,  1],\n",
       "       [ 4,  2,  1],\n",
       "       [ 9,  3,  1],\n",
       "       [25,  5,  1]])"
      ]
     },
     "execution_count": 23,
     "metadata": {},
     "output_type": "execute_result"
    }
   ],
   "source": [
    "np.vander(x,N)"
   ]
  },
  {
   "cell_type": "code",
   "execution_count": 24,
   "metadata": {},
   "outputs": [
    {
     "data": {
      "text/plain": [
       "array([[ 1,  1,  1],\n",
       "       [ 4,  2,  1],\n",
       "       [ 9,  3,  1],\n",
       "       [25,  5,  1]], dtype=int32)"
      ]
     },
     "execution_count": 24,
     "metadata": {},
     "output_type": "execute_result"
    }
   ],
   "source": [
    "np.column_stack([x**(N-i-1) for i in range(N)])"
   ]
  },
  {
   "cell_type": "code",
   "execution_count": 25,
   "metadata": {},
   "outputs": [
    {
     "data": {
      "text/plain": [
       "array([[  1,   1,   1,   1],\n",
       "       [  1,   2,   4,   8],\n",
       "       [  1,   3,   9,  27],\n",
       "       [  1,   5,  25, 125]])"
      ]
     },
     "execution_count": 25,
     "metadata": {},
     "output_type": "execute_result"
    }
   ],
   "source": [
    "# increasing - Order of the powers of the columns. If True, the powers increase from left to right,\n",
    "# if False (the default) they are reversed. \n",
    "np.vander(x, increasing=True)"
   ]
  },
  {
   "cell_type": "markdown",
   "metadata": {},
   "source": [
    "The determinant of square Vandermonde matrix is the product of the differences between the values of the input vector:"
   ]
  },
  {
   "cell_type": "code",
   "execution_count": 26,
   "metadata": {},
   "outputs": [
    {
     "data": {
      "text/plain": [
       "48.00000000000003"
      ]
     },
     "execution_count": 26,
     "metadata": {},
     "output_type": "execute_result"
    }
   ],
   "source": [
    "np.linalg.det(np.vander(x))"
   ]
  },
  {
   "cell_type": "code",
   "execution_count": 27,
   "metadata": {},
   "outputs": [
    {
     "data": {
      "text/plain": [
       "48"
      ]
     },
     "execution_count": 27,
     "metadata": {},
     "output_type": "execute_result"
    }
   ],
   "source": [
    "(5-3)*(5-2)*(5-1)*(3-2)*(3-1)*(2-1)"
   ]
  },
  {
   "cell_type": "markdown",
   "metadata": {},
   "source": [
    "##### Problem Statement 2"
   ]
  },
  {
   "cell_type": "markdown",
   "metadata": {},
   "source": [
    "Given a sequence of 'n' values x1, x2, ... Xn and a window size k>0, the k-th moving average of the given sequence is defined as follows:\n",
    "\n",
    "The moving average sequence has (n-k+1) elements as shown below.\n",
    "\n",
    "The moving averages with k=4 of a ten-values sequence (n=10) is shown below:\n",
    "\n",
    "\n",
    "i = 1 2 3 4 5 6 7 8 9 10\n",
    "\n",
    "\n",
    "input = 10 20 30 40 50 60 70 80 90 100\n",
    "\n",
    "Y1  25 = (10+20+30+40)/4\n",
    "\n",
    "Y2  35 = (20+30+40+50)/4\n",
    "\n",
    "Y3  45 = (30+40+50+60)/4\n",
    "\n",
    "Y4  55 = (40+50+60+70)/4\n",
    "\n",
    "Y5  65 = (50+60+70+80)/4\n",
    "\n",
    "Y6  75 = (60+70+80+90)/4\n",
    "\n",
    "Y7  85 = (70+80+90+100)/4\n",
    "\n",
    "\n",
    "Thus the moving average sequence has (n-k+1) = 10-4+1 = 7 Values. \n",
    "\n",
    "Question: Write a function to find moving average in an array over a window: \n",
    "    Test it over[3,5,7,2,8,10,11,65,72,81,99,100,150] and window of 3. "
   ]
  },
  {
   "cell_type": "code",
   "execution_count": 1,
   "metadata": {},
   "outputs": [],
   "source": [
    "import numpy as np"
   ]
  },
  {
   "cell_type": "code",
   "execution_count": 2,
   "metadata": {},
   "outputs": [
    {
     "name": "stdout",
     "output_type": "stream",
     "text": [
      "Length of the sequence: 13\n",
      "Y0 = 5.0\n",
      "Y1 = 4.666666666666667\n",
      "Y2 = 5.666666666666667\n",
      "Y3 = 6.666666666666667\n",
      "Y4 = 9.666666666666666\n",
      "Y5 = 28.666666666666668\n",
      "Y6 = 49.333333333333336\n",
      "Y7 = 72.66666666666667\n",
      "Y8 = 84.0\n",
      "Y9 = 93.33333333333333\n",
      "Y10 = 116.33333333333333\n"
     ]
    }
   ],
   "source": [
    "def movingAverage(l, win):\n",
    "    print(\"Length of the sequence: {}\".format(len(l)))\n",
    "    for i in range((len(l)-win+1)):#(n-k+1)\n",
    "        sum = 0        \n",
    "        for j in range(win):\n",
    "            sum += l[j+i]\n",
    "        print(\"Y{} = {}\".format(i,(sum/win)))\n",
    "\n",
    "#Sequence.        \n",
    "x=[3,5,7,2,8,10,11,65,72,81,99,100,150]\n",
    "\n",
    "# K - Window size 3. \n",
    "movingAverage(x, 3)"
   ]
  }
 ],
 "metadata": {
  "kernelspec": {
   "display_name": "Python 3",
   "language": "python",
   "name": "python3"
  },
  "language_info": {
   "codemirror_mode": {
    "name": "ipython",
    "version": 3
   },
   "file_extension": ".py",
   "mimetype": "text/x-python",
   "name": "python",
   "nbconvert_exporter": "python",
   "pygments_lexer": "ipython3",
   "version": "3.7.3"
  }
 },
 "nbformat": 4,
 "nbformat_minor": 2
}
